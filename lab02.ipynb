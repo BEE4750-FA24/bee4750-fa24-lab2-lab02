{
  "cells": [
    {
      "cell_type": "markdown",
      "metadata": {},
      "source": [
        "# BEE 4750 Lab 2: Uncertainty and Monte Carlo"
      ],
      "id": "a6f60c1a-717c-4263-9c3c-9d54d6bfb51a"
    },
    {
      "cell_type": "markdown",
      "metadata": {},
      "source": [
        "**Name**:\n",
        "\n",
        "**ID**:"
      ],
      "id": "2063a3a3-4813-437c-ac3d-e0f95f0bfabe"
    },
    {
      "cell_type": "markdown",
      "metadata": {},
      "source": [
        "> **Due Date**\n",
        ">\n",
        "> Friday, 9/22/23, 9:00pm\n",
        "\n",
        "## Setup\n",
        "\n",
        "The following code should go at the top of most Julia scripts; it will\n",
        "load the local package environment and install any needed packages. You\n",
        "will see this often and shouldn’t need to touch it."
      ],
      "id": "47dfb980-2186-4563-85fd-71edf6d7224e"
    },
    {
      "cell_type": "code",
      "execution_count": 1,
      "metadata": {},
      "outputs": [],
      "source": [
        "import Pkg\n",
        "Pkg.activate(\".\")\n",
        "Pkg.instantiate()"
      ],
      "id": "65ef70e9"
    },
    {
      "cell_type": "code",
      "execution_count": 2,
      "metadata": {},
      "outputs": [],
      "source": [
        "using Random # random number generation\n",
        "using Distributions # probability distributions and interface\n",
        "using Statistics # basic statistical functions, including mean\n",
        "using Plots # plotting"
      ],
      "id": "553b6f12"
    },
    {
      "cell_type": "markdown",
      "metadata": {},
      "source": [
        "## Introduction\n",
        "\n",
        "In this lab, you will use Monte Carlo analysis to estimate the expected\n",
        "winnings for a couple of different games of chance.\n",
        "\n",
        "Monte Carlo methods involve the simulation of random numbers from\n",
        "probability distributions. In an environmental context, we often\n",
        "propagate these random numbers through some more complicated model and\n",
        "then compute a resulting statistic which is relevant for assessing\n",
        "performance or risk, such as an average outcome or a particular\n",
        "quantile.\n",
        "\n",
        "Julia provides a common interface for probability distributions with the\n",
        "[`Distributions.jl`\n",
        "package](https://juliastats.org/Distributions.jl/stable/). The basic\n",
        "workflow for sampling from a distribution is:\n",
        "\n",
        "1.  Set up the distribution. The specific syntax depends on the\n",
        "    distribution and what parameters are required, but the general call\n",
        "    is the similar. For a normal distribution or a uniform distribution,\n",
        "    the syntax is\n",
        "\n",
        "    ``` julia\n",
        "    # you don't have to name this \"normal_distribution\"\n",
        "    # μ is the mean and σ is the standard deviation\n",
        "    normal_distribution = Normal(μ, σ)\n",
        "    # a is the upper bound and b is the lower bound; these can be set to +Inf or -Inf for an unbounded distribution in one or both directions.\n",
        "    uniform_distribution = Uniform(a, b)\n",
        "    ```\n",
        "\n",
        "    There are lots of both\n",
        "    [univariate](https://juliastats.org/Distributions.jl/stable/univariate/#Index)\n",
        "    and\n",
        "    [multivariate](https://juliastats.org/Distributions.jl/stable/multivariate/)\n",
        "    distributions, as well as the ability to create your own, but we\n",
        "    won’t do anything too exotic here.\n",
        "\n",
        "2.  Draw samples. This uses the `rand()` command (which, when used\n",
        "    without a distribution, just samples uniformly from the interval\n",
        "    $[0, 1]$.) For example, to sample from our normal distribution\n",
        "    above:\n",
        "\n",
        "    ``` julia\n",
        "    # draw n samples\n",
        "    rand(normal_distribution, n)\n",
        "    ```\n",
        "\n",
        "Putting this together, let’s say that we wanted to simulate 100\n",
        "six-sided dice rolls. We could use a [Discrete Uniform\n",
        "distribution](https://juliastats.org/Distributions.jl/stable/univariate/#Distributions.DiscreteUniform)."
      ],
      "id": "09ad31ba-0df7-42aa-a53e-2425753e5746"
    },
    {
      "cell_type": "code",
      "execution_count": 3,
      "metadata": {},
      "outputs": [
        {
          "output_type": "display_data",
          "metadata": {},
          "data": {
            "text/plain": [
              "100-element Vector{Int64}:\n",
              " 4\n",
              " 4\n",
              " 4\n",
              " 2\n",
              " 2\n",
              " 2\n",
              " 5\n",
              " 3\n",
              " 2\n",
              " 2\n",
              " 4\n",
              " 4\n",
              " 5\n",
              " ⋮\n",
              " 1\n",
              " 3\n",
              " 3\n",
              " 6\n",
              " 2\n",
              " 6\n",
              " 5\n",
              " 6\n",
              " 3\n",
              " 3\n",
              " 5\n",
              " 2"
            ]
          }
        }
      ],
      "source": [
        "dice_dist = DiscreteUniform(1, 6) # can generate any integer between 1 and 6\n",
        "dice_rolls = rand(dice_dist, 100) # simulate rolls"
      ],
      "id": "41a13a0c"
    },
    {
      "cell_type": "markdown",
      "metadata": {},
      "source": [
        "And then we can plot a histogram of these rolls:"
      ],
      "id": "8a9f959d-d915-4dac-bdac-d6165c90e70f"
    },
    {
      "cell_type": "code",
      "execution_count": 4,
      "metadata": {},
      "outputs": [
        {
          "output_type": "display_data",
          "metadata": {},
          "data": {
            "text/html": [
              "<img src=\"data:image/png;base64,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\" />"
            ]
          }
        }
      ],
      "source": [
        "histogram(dice_rolls, legend=:false, bins=6)\n",
        "ylabel!(\"Count\")\n",
        "xlabel!(\"Dice Value\")"
      ],
      "id": "683ff0e6"
    },
    {
      "cell_type": "markdown",
      "metadata": {},
      "source": [
        "**Remember to**:\n",
        "\n",
        "-   Evaluate all of your code cells, in order (using a `Run All`\n",
        "    command). This will make sure all output is visible and that the\n",
        "    code cells were evaluated in the correct order.\n",
        "-   Tag each of the problems when you submit to Gradescope; a 10%\n",
        "    penalty will be deducted if this is not done."
      ],
      "id": "34eed51a-77e8-42d7-b3f9-ee79eec7b838"
    },
    {
      "cell_type": "markdown",
      "metadata": {},
      "source": [
        "## Exercises (10 points)\n",
        "\n",
        "In Problem 1, you will compute the probability of getting a specific\n",
        "combination of multiple dice rolls. The focus will be on understanding\n",
        "how the Monte Carlo estimate changes based on the number of simulations.\n",
        "\n",
        "In Problem 2, we will implement the culmination of every episode of the\n",
        "long-running game show [The Price Is\n",
        "Right](https://en.wikipedia.org/wiki/The_Price_Is_Right): the\n",
        "[Showcase](https://en.wikipedia.org/wiki/The_Price_Is_Right#Showcase).\n",
        "You will be asked to make a plot of expected winnings by bid for a\n",
        "particular distribution of prize values.\n",
        "\n",
        "You should always start any computing with random numbers by setting a\n",
        "“seed,” which controls the sequence of numbers which are generated\n",
        "(since these are not *really* random, just “pseudorandom”). In Julia, we\n",
        "do this with the `Random.seed!()` function.\n",
        "\n",
        "``` julia\n",
        "Random.seed!(1)\n",
        "```\n",
        "\n",
        "    TaskLocalRNG()\n",
        "\n",
        "It doesn’t matter what seed you set, though different seeds might result\n",
        "in slightly different values. But setting a seed means every time your\n",
        "notebook is run, the answer will be the same.\n",
        "\n",
        "> **Seeds and Reproducing Solutions**\n",
        ">\n",
        "> If you don’t re-run your code in the same order or if you re-run the\n",
        "> same cell repeatedly, you will not get the same solution. If you’re\n",
        "> working on a specific problem, you might want to re-use\n",
        "> `Random.seed()` near any block of code you want to re-evaluate\n",
        "> repeatedly."
      ],
      "id": "fe34e76b-7117-4416-a628-8396722289e4"
    },
    {
      "cell_type": "markdown",
      "metadata": {},
      "source": [
        "### Problem 1 (5 points)\n",
        "\n",
        "We want to know the probability of getting at least an 11 from rolling\n",
        "three fair, six-sided dice (this is actually an old Italian game called\n",
        "*passadieci*, which was analyzed by Galileo as one of the first examples\n",
        "of a rigorous study of probability)."
      ],
      "id": "d992467f-2900-431e-9203-f5b02b94c19c"
    },
    {
      "cell_type": "markdown",
      "metadata": {},
      "source": [
        "#### Problem 1.1 (1 point)\n",
        "\n",
        "Write a function called `passadieci()` to simulate this game, which will\n",
        "take as an input the number of realizations and output a vector of the\n",
        "sum of the three dice rolls for each realization."
      ],
      "id": "b93daba4-5fed-46d8-be1b-57a4eac22005"
    },
    {
      "cell_type": "markdown",
      "metadata": {},
      "source": [
        "### Problem 1.2 (2 points)\n",
        "\n",
        "Generate 5,000 simulations of the game using your `passadieci()`\n",
        "function. Plot how the computed probability of winning the game changes\n",
        "as the number of simulations increases (you can do this by computing the\n",
        "frequency of wins for each additional simulation)."
      ],
      "id": "f36a158e-da64-4d33-9520-87d1cf5943d0"
    },
    {
      "cell_type": "markdown",
      "metadata": {},
      "source": [
        "### Problem 1.3 (2 point)\n",
        "\n",
        "Based on your plot from Problem 1.2, how many simulations were needed\n",
        "for the win probability estimate to converge? What did you notice from\n",
        "your plot about the estimates prior to convergence?"
      ],
      "id": "32bf934d-6d47-424d-9854-ee0e57347c13"
    },
    {
      "cell_type": "markdown",
      "metadata": {},
      "source": [
        "## Problem 2 (5 points)\n",
        "\n",
        "The Showcase is the final round of every episode of The Price is Right,\n",
        "matching the two big winners from the episode. Each contestant is shown\n",
        "a “showcase” of prizes, which are usually some combination of a trip, a\n",
        "motor vehicle, some furniture, and maybe some other stuff. They then\n",
        "each have to make a bid on the retail price of the showcase. The rules\n",
        "are:\n",
        "\n",
        "-   an overbid is an automatic loss;\n",
        "-   the contest who gets closest to the retail price wins their\n",
        "    showcase;\n",
        "-   if a contestant gets within \\$250 of the retail price and is closer\n",
        "    than their opponent, they win both showcases.\n",
        "\n",
        "Your goal is to find a wager which maximizes your expected winnings,\n",
        "which we may as well call utility, based on your assessment of the\n",
        "probability of your showcase retail price. We’ll assume that the\n",
        "distribution of all showcases offered by the show is given as truncated\n",
        "normal distribution, which means a normal distribution which has an\n",
        "upper and/or lower bound. `Distributions.jl` makes it easy to specify\n",
        "truncations on any distribution, not just normal distributions. For\n",
        "example, we’ll use this distribution for the showcase values:\n",
        "\n",
        "``` julia\n",
        "showcase_dist = truncated(Normal(31000, 4500), lower=5000, upper=42000)\n",
        "```\n",
        "\n",
        "    Truncated(Normal{Float64}(μ=31000.0, σ=4500.0); lower=5000.0, upper=42000.0)"
      ],
      "id": "1a3ea91b-28b2-4782-9d30-c04de5de5ada"
    },
    {
      "cell_type": "markdown",
      "metadata": {},
      "source": [
        "#### Problem 2.1 (3 points)\n",
        "\n",
        "Write a function `showcase()` which takes in a bid value and uses Monte\n",
        "Carlo simulation to compute the expected value of the winnings. Make the\n",
        "following assumptions about your expected winnings if you don’t overbid:\n",
        "\n",
        "-   If you win both showcases, the value is the double of the single\n",
        "    showcase value.\n",
        "-   If you did not win both showcases but bid under the showcase value,\n",
        "    the probability of being outbid increases linearly as the distance\n",
        "    between your bid and the value increases (in other words, if you bid\n",
        "    the exact value, you win with probability 1, and if you bid \\$0, you\n",
        "    win with probability 0).\n",
        "\n",
        "How did you decide how many samples to use within the function?"
      ],
      "id": "cdb7c56a-c1fd-4a80-a236-22519eb3ca57"
    },
    {
      "cell_type": "markdown",
      "metadata": {},
      "source": [
        "#### Problem 2.2 (2 points)\n",
        "\n",
        "Plot the expected winnings for bids ranging from \\$0 to \\$42,000. What\n",
        "do you notice?"
      ],
      "id": "b77db11e-b437-441c-b1b9-d59c1bc65af7"
    },
    {
      "cell_type": "markdown",
      "metadata": {},
      "source": [
        "## References\n",
        "\n",
        "Put any consulted sources here, including classmates you worked with/who\n",
        "helped you."
      ],
      "id": "91a61ad3-ae52-4490-994c-61a03729c137"
    }
  ],
  "nbformat": 4,
  "nbformat_minor": 5,
  "metadata": {
    "kernelspec": {
      "name": "julia-1.9",
      "display_name": "Julia 1.9.4",
      "language": "julia",
      "path": "/home/runner/.local/share/jupyter/kernels/julia-1.9"
    },
    "language_info": {
      "name": "julia",
      "file_extension": ".jl",
      "mimetype": "application/julia",
      "version": "1.9.4"
    }
  }
}